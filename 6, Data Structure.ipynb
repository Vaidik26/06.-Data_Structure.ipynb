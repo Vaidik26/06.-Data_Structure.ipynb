{
 "cells": [
  {
   "cell_type": "markdown",
   "metadata": {},
   "source": [
    "#1. Why might you choose a deque from the collections module to implement a queue instead of using a regular Python list?\n",
    "\n",
    "A deque is better than list because it has faster insertion and deletion as compared to Python list. \n",
    "\n",
    "The data in deque is organized well as compared to list in python.\n",
    "\n",
    "Deque has better perfomance than list."
   ]
  },
  {
   "cell_type": "markdown",
   "metadata": {},
   "source": [
    "2. Can you explain a real-world scenario where using a stack would be a more practical choice than a list for data storage and retrieval?\n",
    "\n",
    "In a web browser when a user navigates from one page to another the browser keeps track of the visited pages in the history.The user can use the \"Back\" button to go back to the previously visited page. In this case a stack would be a more practical choice than a list.\n",
    "\n",
    "\n"
   ]
  },
  {
   "cell_type": "markdown",
   "metadata": {},
   "source": [
    "3. What is the primary advantage of using sets in Python, and in what type of problem-solving scenarios are they most useful?\n",
    "\n",
    "The primary advantage of using sets in Python when you want to store data which should not contain any duplicate values in that case we will use sets. \n",
    "\n",
    "When working with data and you want to ensure unique elements."
   ]
  },
  {
   "cell_type": "markdown",
   "metadata": {},
   "source": [
    "4. When might you choose to use an array instead of a list for storing numerical data in Python? What benefits do arrays offer in this context?\n",
    "\n",
    "Python arrays are used when you need to use a large number of variables of the same type. \n",
    "\n",
    "Python arrays are faster than lists because they use less memory."
   ]
  },
  {
   "cell_type": "code",
   "execution_count": 12,
   "metadata": {},
   "outputs": [
    {
     "name": "stdout",
     "output_type": "stream",
     "text": [
      "This is output of list :  2\n",
      "This is output of Dictionary :  2\n"
     ]
    }
   ],
   "source": [
    "#5. In Python, what's the primary difference between dictionaries and lists, and how does this difference impact their use cases in programming?\n",
    "\n",
    "l = [1, 2, 3, 4, 5] #this is example of list\n",
    "print(\"This is output of list : \", l[1]) #This is how we can access \"2\" in list\n",
    "\n",
    "d = {\"one\" : 1, \"two\" : 2 , \"three\" : 3 , \"four\" : 4 , \"five\" : 5} #This is example of dictionary\n",
    "print(\"This is output of Dictionary : \", d[\"two\"]) #This is how we can access \"3\" in a dictionary\n",
    "\n",
    "# List is mutable whereas Dictionary are immutable."
   ]
  },
  {
   "cell_type": "code",
   "execution_count": null,
   "metadata": {},
   "outputs": [],
   "source": []
  }
 ],
 "metadata": {
  "kernelspec": {
   "display_name": "Python 3",
   "language": "python",
   "name": "python3"
  },
  "language_info": {
   "codemirror_mode": {
    "name": "ipython",
    "version": 3
   },
   "file_extension": ".py",
   "mimetype": "text/x-python",
   "name": "python",
   "nbconvert_exporter": "python",
   "pygments_lexer": "ipython3",
   "version": "3.12.2"
  }
 },
 "nbformat": 4,
 "nbformat_minor": 2
}
